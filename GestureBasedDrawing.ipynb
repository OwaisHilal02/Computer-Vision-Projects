{
 "cells": [
  {
   "cell_type": "markdown",
   "metadata": {},
   "source": [
    "Importing Required Libraries "
   ]
  },
  {
   "cell_type": "code",
   "execution_count": 8,
   "metadata": {},
   "outputs": [],
   "source": [
    "import cv2\n",
    "import mediapipe as mp\n",
    "import numpy as np"
   ]
  },
  {
   "cell_type": "markdown",
   "metadata": {},
   "source": [
    "Initialize MediaPipe Hand Tracking "
   ]
  },
  {
   "cell_type": "code",
   "execution_count": 9,
   "metadata": {},
   "outputs": [],
   "source": [
    "mp_hands = mp.solutions.hands\n",
    "mp_drawing = mp.solutions.drawing_utils\n",
    "hands = mp_hands.Hands(min_detection_confidence=0.7, min_tracking_confidence=0.7)"
   ]
  },
  {
   "cell_type": "markdown",
   "metadata": {},
   "source": [
    "Initialize the drawing canvas (white background)"
   ]
  },
  {
   "cell_type": "code",
   "execution_count": 10,
   "metadata": {},
   "outputs": [],
   "source": [
    "canvas_width, canvas_height = 800, 600  # Set canvas size\n",
    "canvas = np.ones((canvas_height, canvas_width, 3), dtype=np.uint8) * 255  # White canvas\n",
    "drawing = False  # Flag to track whether drawing is happening\n",
    "previous_position = None  # To store previous finger position\n",
    "drawn_lines = []  # Store the drawn lines for deletion"
   ]
  },
  {
   "cell_type": "markdown",
   "metadata": {},
   "source": [
    "Function to draw on the canvas using the index finger"
   ]
  },
  {
   "cell_type": "code",
   "execution_count": 11,
   "metadata": {},
   "outputs": [],
   "source": [
    "def draw_on_canvas(frame, landmarks, canvas):\n",
    "    global previous_position, drawing, drawn_lines\n",
    "\n",
    "    # Get the position of the index finger tip (landmark 8)\n",
    "    index_finger_tip = landmarks[mp_hands.HandLandmark.INDEX_FINGER_TIP]\n",
    "\n",
    "    # Convert normalized coordinates to pixel values\n",
    "    h, w, _ = frame.shape\n",
    "    index_x = int(index_finger_tip.x * w)\n",
    "    index_y = int(index_finger_tip.y * h)\n",
    "\n",
    "    # Optional: Smoothing for more stable drawing\n",
    "    if previous_position is not None:\n",
    "        index_x = int((index_x + previous_position[0]) / 2)\n",
    "        index_y = int((index_y + previous_position[1]) / 2)\n",
    "\n",
    "    # If the finger is pointing, start drawing\n",
    "    if previous_position is not None and drawing:\n",
    "        # Draw a line from the previous finger position to the current one\n",
    "        cv2.line(canvas, previous_position, (index_x, index_y), (0, 0, 255), 5)\n",
    "        # Save the drawn line (to be able to delete later)\n",
    "        drawn_lines.append((previous_position, (index_x, index_y)))\n",
    "\n",
    "    # Update previous position to current position\n",
    "    previous_position = (index_x, index_y)\n"
   ]
  },
  {
   "cell_type": "markdown",
   "metadata": {},
   "source": [
    "Function to detect fist (for stopping drawing)"
   ]
  },
  {
   "cell_type": "code",
   "execution_count": 12,
   "metadata": {},
   "outputs": [],
   "source": [
    "def is_fist(landmarks):\n",
    "    # Check if the tips of all fingers (except thumb) are curled toward their base\n",
    "    fingers_curled = 0\n",
    "    fingers = [mp_hands.HandLandmark.INDEX_FINGER_TIP,\n",
    "               mp_hands.HandLandmark.MIDDLE_FINGER_TIP,\n",
    "               mp_hands.HandLandmark.RING_FINGER_TIP,\n",
    "               mp_hands.HandLandmark.PINKY_TIP]\n",
    "\n",
    "    bases = [mp_hands.HandLandmark.INDEX_FINGER_DIP,\n",
    "             mp_hands.HandLandmark.MIDDLE_FINGER_DIP,\n",
    "             mp_hands.HandLandmark.RING_FINGER_DIP,\n",
    "             mp_hands.HandLandmark.PINKY_DIP]\n",
    "\n",
    "    for finger, base in zip(fingers, bases):\n",
    "        if landmarks[finger].y > landmarks[base].y:  # Tip is below or closer to the base joint\n",
    "            fingers_curled += 1\n",
    "\n",
    "    # If all 4 fingers are curled, it's a fist\n",
    "    return fingers_curled == 4"
   ]
  },
  {
   "cell_type": "markdown",
   "metadata": {},
   "source": [
    "Function to detect two fingers raised (for deleting)"
   ]
  },
  {
   "cell_type": "code",
   "execution_count": 13,
   "metadata": {},
   "outputs": [],
   "source": [
    "def is_two_fingers_raised(landmarks):\n",
    "    # Peace sign gesture (two fingers raised)\n",
    "    index_finger = landmarks[mp_hands.HandLandmark.INDEX_FINGER_TIP]\n",
    "    middle_finger = landmarks[mp_hands.HandLandmark.MIDDLE_FINGER_TIP]\n",
    "    \n",
    "    # Check if both fingers are pointing up\n",
    "    if index_finger.y < landmarks[mp_hands.HandLandmark.INDEX_FINGER_DIP].y and \\\n",
    "       middle_finger.y < landmarks[mp_hands.HandLandmark.MIDDLE_FINGER_DIP].y:\n",
    "        return True\n",
    "    return False"
   ]
  },
  {
   "cell_type": "markdown",
   "metadata": {},
   "source": [
    "Real-time webcam feed"
   ]
  },
  {
   "cell_type": "code",
   "execution_count": 14,
   "metadata": {},
   "outputs": [],
   "source": [
    "cap = cv2.VideoCapture(0)\n",
    "\n",
    "while cap.isOpened():\n",
    "    ret, frame = cap.read()\n",
    "    if not ret:\n",
    "        print(\"Error accessing the camera.\")\n",
    "        break\n",
    "\n",
    "    # Flip the frame to mirror the video feed\n",
    "    frame = cv2.flip(frame, 1)\n",
    "\n",
    "    # Convert the frame to RGB for MediaPipe\n",
    "    rgb_frame = cv2.cvtColor(frame, cv2.COLOR_BGR2RGB)\n",
    "    \n",
    "    # Process the frame with MediaPipe Hands\n",
    "    results = hands.process(rgb_frame)\n",
    "\n",
    "    # Resize canvas to match the frame size\n",
    "    canvas_resized = cv2.resize(canvas, (frame.shape[1], frame.shape[0]))\n",
    "\n",
    "    # If hand landmarks are found, process them\n",
    "    if results.multi_hand_landmarks:\n",
    "        for hand_landmarks in results.multi_hand_landmarks:\n",
    "            # Draw the hand landmarks on the frame\n",
    "            mp_drawing.draw_landmarks(frame, hand_landmarks, mp_hands.HAND_CONNECTIONS)\n",
    "\n",
    "            # If a fist is detected, stop drawing\n",
    "            if is_fist(hand_landmarks.landmark):\n",
    "                drawing = False\n",
    "                previous_position = None\n",
    "                cv2.putText(frame, 'Drawing Stopped (Fist)', (50, 50), cv2.FONT_HERSHEY_SIMPLEX, 1, (0, 0, 255), 2, cv2.LINE_AA)\n",
    "            elif is_two_fingers_raised(hand_landmarks.landmark):\n",
    "                if drawn_lines:\n",
    "                    drawn_lines.pop()  # Remove the last drawn line\n",
    "                    canvas = np.ones((canvas_height, canvas_width, 3), dtype=np.uint8) * 255\n",
    "                    for line in drawn_lines:\n",
    "                        cv2.line(canvas, line[0], line[1], (0, 0, 255), 5)\n",
    "                cv2.putText(frame, 'Deleting Last Line (Two Fingers)', (50, 50), cv2.FONT_HERSHEY_SIMPLEX, 1, (0, 0, 255), 2, cv2.LINE_AA)\n",
    "            else:\n",
    "                draw_on_canvas(frame, hand_landmarks.landmark, canvas)\n",
    "                drawing = True\n",
    "                cv2.putText(frame, 'Drawing...', (50, 50), cv2.FONT_HERSHEY_SIMPLEX, 1, (0, 0, 255), 2, cv2.LINE_AA)\n",
    "\n",
    "    # Display the frame with the drawing overlay\n",
    "    cv2.imshow('Gesture Drawing', cv2.addWeighted(frame, 0.5, canvas_resized, 0.5, 0))\n",
    "\n",
    "    # Break the loop on 'q' key press\n",
    "    if cv2.waitKey(1) & 0xFF == ord('q'):\n",
    "        break\n",
    "\n",
    "cap.release()\n",
    "cv2.destroyAllWindows()"
   ]
  },
  {
   "cell_type": "code",
   "execution_count": null,
   "metadata": {},
   "outputs": [],
   "source": []
  }
 ],
 "metadata": {
  "kernelspec": {
   "display_name": "Python 3",
   "language": "python",
   "name": "python3"
  },
  "language_info": {
   "codemirror_mode": {
    "name": "ipython",
    "version": 3
   },
   "file_extension": ".py",
   "mimetype": "text/x-python",
   "name": "python",
   "nbconvert_exporter": "python",
   "pygments_lexer": "ipython3",
   "version": "3.12.5"
  }
 },
 "nbformat": 4,
 "nbformat_minor": 2
}
